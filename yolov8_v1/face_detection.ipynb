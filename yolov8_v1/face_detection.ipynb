{
 "cells": [
  {
   "cell_type": "code",
   "execution_count": 1,
   "id": "0624a1c2",
   "metadata": {},
   "outputs": [],
   "source": [
    "from ultralytics import YOLO\n",
    "import cv2"
   ]
  },
  {
   "cell_type": "code",
   "execution_count": 2,
   "id": "5f0dcc21",
   "metadata": {},
   "outputs": [
    {
     "name": "stdout",
     "output_type": "stream",
     "text": [
      "\n",
      "image 1/1 c:\\Users\\DELL\\AI\\Project\\face_detection\\yolov8_v1\\Rock2.jpg: 640x448 1 FACE, 202.9ms\n",
      "Speed: 9.6ms preprocess, 202.9ms inference, 10.3ms postprocess per image at shape (1, 3, 640, 448)\n"
     ]
    }
   ],
   "source": [
    "model = YOLO(\"best.pt\")\n",
    "\n",
    "img_path = \"Rock2.jpg\"\n",
    "results = model(img_path) \n",
    "boxes = results[0].boxes\n",
    "img = cv2.imread(img_path)\n",
    "\n"
   ]
  },
  {
   "cell_type": "code",
   "execution_count": 3,
   "id": "0c1dca5f",
   "metadata": {},
   "outputs": [],
   "source": [
    "for box in boxes:\n",
    "    top_left_x = int(box.xyxy.tolist()[0][0])\n",
    "    top_left_y = int(box.xyxy.tolist()[0][1])\n",
    "    bottom_right_x = int(box.xyxy.tolist()[0][2])\n",
    "    bottom_right_y = int(box.xyxy.tolist()[0][3])\n",
    "    croppedImg = img[top_left_y+1:bottom_right_y, top_left_x+1:bottom_right_x]\n",
    "    cv2.rectangle(img, (top_left_x, top_left_y), (bottom_right_x, bottom_right_y), (50, 200, 129), 1)\n",
    "cv2.imshow('window', img)\n",
    "cv2.imwrite(f\"Rock_Cropped.jpg\", croppedImg)\n",
    "cv2.waitKey(0) \n",
    "  \n",
    "# closing all open windows \n",
    "cv2.destroyAllWindows() "
   ]
  },
  {
   "cell_type": "code",
   "execution_count": null,
   "id": "a8121591",
   "metadata": {},
   "outputs": [],
   "source": []
  }
 ],
 "metadata": {
  "kernelspec": {
   "display_name": "Python 3 (ipykernel)",
   "language": "python",
   "name": "python3"
  },
  "language_info": {
   "codemirror_mode": {
    "name": "ipython",
    "version": 3
   },
   "file_extension": ".py",
   "mimetype": "text/x-python",
   "name": "python",
   "nbconvert_exporter": "python",
   "pygments_lexer": "ipython3",
   "version": "3.11.5"
  }
 },
 "nbformat": 4,
 "nbformat_minor": 5
}
