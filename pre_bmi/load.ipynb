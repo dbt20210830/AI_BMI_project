{
 "cells": [
  {
   "cell_type": "code",
   "execution_count": 23,
   "metadata": {},
   "outputs": [],
   "source": [
    "import torch\n",
    "import torch.nn as nn\n",
    "\n",
    "class BMIModel(nn.Module):\n",
    "    def __init__(self):\n",
    "        super(BMIModel,self).__init__()\n",
    "        self.conv1 = nn.Conv2d(3,6, 3) #224x224\n",
    "        self.relu1 = nn.ReLU()\n",
    "        self.batch1 = nn.BatchNorm2d(6)\n",
    "        self.pool1 = nn.MaxPool2d( 2,2) #111x111\n",
    "        \n",
    "        self.conv2 = nn.Conv2d(6 ,10 , 3) # 110 x110\n",
    "        self.relu2 = nn.ReLU()\n",
    "        self.batch2 = nn.BatchNorm2d(10)\n",
    "        self.pool2 = nn.MaxPool2d( 2,2)# 55x55\n",
    "        \n",
    "        self.l_conv1 = int((224- 3) + 1)\n",
    "        self.l_maxpool1= int((self.l_conv1 - 2)/2 + 1)\n",
    "\n",
    "        self.l_conv2 = int((self.l_maxpool1- 3) + 1)\n",
    "        self.l_maxpool2= int((self.l_conv2 - 2)/2 + 1)        \n",
    "        self.linear = nn.Linear(self.l_maxpool2*self.l_maxpool2*10,1)\n",
    "    \n",
    "    def forward(self,x):\n",
    "        x = self.conv1(x)\n",
    "        x = self.relu1(x)\n",
    "        x = self.batch1(x)\n",
    "        x = self.pool1(x)\n",
    "        \n",
    "        \n",
    "        x = self.conv2(x)\n",
    "        x = self.relu2(x)\n",
    "        x = self.batch2(x)\n",
    "        x = self.pool2(x)\n",
    "        x = torch.flatten(x, start_dim=1)\n",
    "        x = self.linear(x)\n",
    "        \n",
    "        return x"
   ]
  },
  {
   "cell_type": "code",
   "execution_count": null,
   "metadata": {},
   "outputs": [],
   "source": [
    "import sys\n",
    "sys.path\n",
    "sys.modules"
   ]
  },
  {
   "cell_type": "code",
   "execution_count": 25,
   "metadata": {},
   "outputs": [
    {
     "data": {
      "text/plain": [
       "BMIModel(\n",
       "  (conv1): Conv2d(3, 6, kernel_size=(3, 3), stride=(1, 1))\n",
       "  (relu1): ReLU()\n",
       "  (batch1): BatchNorm2d(6, eps=1e-05, momentum=0.1, affine=True, track_running_stats=True)\n",
       "  (pool1): MaxPool2d(kernel_size=2, stride=2, padding=0, dilation=1, ceil_mode=False)\n",
       "  (conv2): Conv2d(6, 10, kernel_size=(3, 3), stride=(1, 1))\n",
       "  (relu2): ReLU()\n",
       "  (batch2): BatchNorm2d(10, eps=1e-05, momentum=0.1, affine=True, track_running_stats=True)\n",
       "  (pool2): MaxPool2d(kernel_size=2, stride=2, padding=0, dilation=1, ceil_mode=False)\n",
       "  (linear): Linear(in_features=29160, out_features=1, bias=True)\n",
       ")"
      ]
     },
     "execution_count": 25,
     "metadata": {},
     "output_type": "execute_result"
    }
   ],
   "source": [
    "import torch\n",
    "import torch.nn as nn\n",
    " \n",
    "\n",
    "# Giả sử bạn đã lưu mô hình bằng torch.save(model, PATH)\n",
    "loaded_model = torch.load('model.pth')\n",
    "\n",
    "# Đặt mô hình ở chế độ đánh giá (quan trọng nếu sử dụng các lớp như dropout hoặc normalization theo batch)\n",
    "loaded_model.eval()"
   ]
  }
 ],
 "metadata": {
  "kernelspec": {
   "display_name": "Python 3.10.4 ('torch')",
   "language": "python",
   "name": "python3"
  },
  "language_info": {
   "codemirror_mode": {
    "name": "ipython",
    "version": 3
   },
   "file_extension": ".py",
   "mimetype": "text/x-python",
   "name": "python",
   "nbconvert_exporter": "python",
   "pygments_lexer": "ipython3",
   "version": "3.10.4"
  },
  "orig_nbformat": 4,
  "vscode": {
   "interpreter": {
    "hash": "5e41069438920b677da0f5961bc4e6feb5d97eaf860276a7a70f8fcc8c0e79bb"
   }
  }
 },
 "nbformat": 4,
 "nbformat_minor": 2
}
