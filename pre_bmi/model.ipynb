{
 "cells": [
  {
   "cell_type": "code",
   "execution_count": 206,
   "metadata": {},
   "outputs": [],
   "source": [
    "import torch\n",
    "import torch.nn as nn\n",
    "import torch.optim as optim\n",
    "from torchvision import datasets, transforms\n",
    "from torch.utils.data import Dataset, DataLoader\n",
    "from PIL import Image\n",
    "import pandas as pd\n",
    "import os\n"
   ]
  },
  {
   "cell_type": "code",
   "execution_count": 207,
   "metadata": {},
   "outputs": [],
   "source": [
    "#dataset\n",
    "class BMIDataset(Dataset):\n",
    "    def __init__(self, csv_file, root_dir, transform = None):\n",
    "        self.annotations = pd.read_csv(csv_file)\n",
    "        self.root_dir = root_dir\n",
    "        self.transform = transform\n",
    "    def __len__(self):\n",
    "        return len(self.annotations)\n",
    "    def __getitem__(self,idx\n",
    "                    ):\n",
    "        img_path = self.annotations.iloc[idx, 5]\n",
    "        image = Image.open(img_path).convert(\"RGB\")\n",
    "        bmi_label = float(self.annotations.iloc[idx, 4])\n",
    "\n",
    "        if self.transform:\n",
    "            image = self.transform(image)\n",
    "\n",
    "        return (image, bmi_label)\n",
    "    "
   ]
  },
  {
   "cell_type": "code",
   "execution_count": 208,
   "metadata": {},
   "outputs": [],
   "source": [
    "resize = 224"
   ]
  },
  {
   "cell_type": "code",
   "execution_count": 209,
   "metadata": {},
   "outputs": [],
   "source": [
    "transform = transforms.Compose([\n",
    "    transforms.Resize((resize, resize)),  # Chọn kích thước ảnh sau khi augment\n",
    "    transforms.ToTensor(),  # Chuyển ảnh sang tensor\n",
    "    transforms.Normalize((0.5, 0.5, 0.5), (0.5, 0.5, 0.5))  # Chuẩn hóa tensor\n",
    "])"
   ]
  },
  {
   "cell_type": "code",
   "execution_count": 210,
   "metadata": {},
   "outputs": [
    {
     "data": {
      "text/plain": [
       "Compose(\n",
       "    Resize(size=(224, 224), interpolation=bilinear, max_size=None, antialias=None)\n",
       "    ToTensor()\n",
       "    Normalize(mean=(0.5, 0.5, 0.5), std=(0.5, 0.5, 0.5))\n",
       ")"
      ]
     },
     "execution_count": 210,
     "metadata": {},
     "output_type": "execute_result"
    }
   ],
   "source": [
    "transform"
   ]
  },
  {
   "cell_type": "code",
   "execution_count": 211,
   "metadata": {},
   "outputs": [],
   "source": [
    "class BMIModel(nn.Module):\n",
    "    def __init__(self, shape_data=[3,resize], num_filters =[6,10], kernel_size=[3,3], maxpooling=[2,2]):\n",
    "        super().__init__()\n",
    "        self.shape_data = shape_data\n",
    "        self.num_filters = num_filters\n",
    "        self.kernel_size = kernel_size\n",
    "        self.maxpooling = maxpooling\n",
    "        \n",
    "        \n",
    "        # input -> conv2d -> batchnorm -> maxpool2d ->conv2d -> batchnorm -> maxpool \n",
    "        \n",
    "        # torch.nn.Conv2d(in_channels, out_channels, kernel_size, stride=1, padding=0, dilation=1, groups=1, bias=True, padding_mode='zeros', device=None, dtype=None)\n",
    "\n",
    "        self.conv1 = nn.Conv2d(\n",
    "                            in_channels=self.shape_data[0], \n",
    "                            out_channels=self.num_filters[0], \n",
    "                            kernel_size=self.kernel_size[0],\n",
    "                            )\n",
    "\n",
    "        self.conv2 = nn.Conv2d(\n",
    "                            in_channels=self.num_filters[0], \n",
    "                            out_channels=self.num_filters[1], \n",
    "                            kernel_size=self.kernel_size[1],\n",
    "                            )\n",
    "        # self.conv3 = nn.Conv2d(\n",
    "        #                     in_channels=self.num_filters[1], \n",
    "        #                     out_channels=1, \n",
    "        #                     kernel_size=3,\n",
    "        #                     )\n",
    "        # nn.init.xavier_uniform_(self.conv1.weight)\n",
    "        # nn.init.zeros_(self.conv1.bias)\n",
    "        # nn.init.xavier_uniform_(self.conv2.weight)\n",
    "        # nn.init.zeros_(self.conv2.bias)\n",
    "\n",
    "        self.f_activation1 = nn.ReLU()\n",
    "        self.f_activation2 = nn.ReLU()\n",
    "\n",
    "\n",
    "        # torch.nn.BatchNorm2d(num_features, eps=1e-05, momentum=0.1, affine=True, track_running_stats=True, device=None, dtype=None)\n",
    "        self.batchNorm1 = nn.BatchNorm2d(num_features=self.num_filters[0])\n",
    "        self.batchNorm2 = nn.BatchNorm2d(num_features=self.num_filters[1])\n",
    "\n",
    "        # torch.nn.MaxPool2d(kernel_size, stride=None, padding=0, dilation=1, return_indices=False, ceil_mode=False)\n",
    "        \n",
    "        self.maxpooling1 = nn.MaxPool2d(kernel_size=self.maxpooling[0])\n",
    "        self.maxpooling2 = nn.MaxPool2d(kernel_size=self.maxpooling[1])\n",
    "        \n",
    "        self.h_conv1 = int((self.shape_data[1] - self.kernel_size[0]) + 1)\n",
    "        #self.w_conv1 = int((self.shape_data[2] - self.kernel_size[0]) + 1)\n",
    "\n",
    "        self.h_maxpool1 = int((self.h_conv1 - self.maxpooling[0])/self.maxpooling[0] + 1)\n",
    "        #self.w_maxpool1 = int((self.w_conv1 - self.maxpooling[0])/self.maxpooling[0] + 1)  \n",
    "\n",
    "        self.h_conv2 = int((self.h_maxpool1 - self.kernel_size[1]) + 1)\n",
    "        #self.w_conv2 = int((self.w_maxpool1 - self.kernel_size[1]) + 1)\n",
    "\n",
    "        self.h_maxpool2= int((self.h_conv2 - self.maxpooling[1])/self.maxpooling[1] + 1)\n",
    "        #self.w_maxpool2 = int((self.w_conv2 - self.maxpooling[1])/self.maxpooling[1] + 1)  \n",
    "\n",
    "        # self.h_conv3 = int((self.h_maxpool2 - 3) + 1)\n",
    "        # self.w_conv3 = int((self.w_maxpool2 - 3) + 1)\n",
    "        \n",
    "        \n",
    "        \n",
    "        self.linear = nn.Linear(self.h_maxpool2*self.h_maxpool2*num_filters[1], 1)\n",
    "    def forward(self,x):\n",
    "        x = self.conv1(x)\n",
    "        x = self.f_activation1(x)\n",
    "        x = self.batchNorm1(x)\n",
    "        x = self.maxpooling1(x)\n",
    "        \n",
    "        \n",
    "        x = self.conv2(x)\n",
    "        x = self.f_activation2(x)\n",
    "        x = self.batchNorm2(x)\n",
    "        x = self.maxpooling2(x)\n",
    "        x = torch.flatten(x, start_dim=1)\n",
    "        x = self.linear(x)\n",
    "        \n",
    "        return x"
   ]
  },
  {
   "cell_type": "code",
   "execution_count": 212,
   "metadata": {},
   "outputs": [],
   "source": [
    "model = BMIModel()"
   ]
  },
  {
   "cell_type": "code",
   "execution_count": 213,
   "metadata": {},
   "outputs": [],
   "source": [
    "dataset = BMIDataset(csv_file ='/home/quanhhh/Documents/pre_bmi/pr_databmi.csv',\n",
    "                     root_dir = '/home/quanhhh/Documents/vip/vip/data/data/',\n",
    "                     transform = transform )"
   ]
  },
  {
   "cell_type": "code",
   "execution_count": 214,
   "metadata": {},
   "outputs": [
    {
     "data": {
      "text/plain": [
       "0       /home/quanhhh/Documents/vip/vip/data/data/f_00...\n",
       "1       /home/quanhhh/Documents/vip/vip/data/data/f_00...\n",
       "2       /home/quanhhh/Documents/vip/vip/data/data/f_00...\n",
       "3       /home/quanhhh/Documents/vip/vip/data/data/f_00...\n",
       "4       /home/quanhhh/Documents/vip/vip/data/data/f_00...\n",
       "                              ...                        \n",
       "1021    /home/quanhhh/Documents/vip/vip/data/data/m_50...\n",
       "1022    /home/quanhhh/Documents/vip/vip/data/data/m_51...\n",
       "1023    /home/quanhhh/Documents/vip/vip/data/data/m_51...\n",
       "1024    /home/quanhhh/Documents/vip/vip/data/data/m_51...\n",
       "1025    /home/quanhhh/Documents/vip/vip/data/data/m_51...\n",
       "Name: path, Length: 1026, dtype: object"
      ]
     },
     "execution_count": 214,
     "metadata": {},
     "output_type": "execute_result"
    }
   ],
   "source": [
    "annotations = pd.read_csv('/home/quanhhh/Documents/pre_bmi/pr_databmi.csv')\n",
    "img_path = annotations.iloc[ : , 5]\n",
    "img_path"
   ]
  },
  {
   "cell_type": "code",
   "execution_count": 215,
   "metadata": {},
   "outputs": [],
   "source": [
    "#set up data loader and transformations\n",
    "total_samples = len(dataset)\n",
    "total_samples\n",
    "from torch.utils.data import random_split\n",
    "total_samples = len(dataset)\n",
    "train_size = int(0.7 * total_samples)  # Adjust the split ratio as needed\n",
    "test_size = total_samples - train_size\n",
    "\n",
    "train_set, test_set = random_split(dataset, [train_size, test_size])"
   ]
  },
  {
   "cell_type": "code",
   "execution_count": 216,
   "metadata": {},
   "outputs": [],
   "source": [
    "batch_size = 226\n"
   ]
  },
  {
   "cell_type": "code",
   "execution_count": 217,
   "metadata": {},
   "outputs": [],
   "source": [
    "train_loader = DataLoader(dataset=train_set, batch_size=batch_size, shuffle=True)\n",
    "test_loader = DataLoader(dataset=test_set, batch_size= 308, shuffle=True)\n",
    "\n"
   ]
  },
  {
   "cell_type": "code",
   "execution_count": 218,
   "metadata": {},
   "outputs": [],
   "source": [
    "model = BMIModel()\n"
   ]
  },
  {
   "cell_type": "code",
   "execution_count": 219,
   "metadata": {},
   "outputs": [],
   "source": [
    "class RMSELoss(nn.Module):\n",
    "    def __init__(self, eps=1e-6):\n",
    "        super().__init__()\n",
    "        self.mse = nn.MSELoss()\n",
    "        self.eps = eps\n",
    "        \n",
    "    def forward(self,yhat,y):\n",
    "        loss = torch.sqrt(self.mse(yhat,y) + self.eps)\n",
    "        return loss"
   ]
  },
  {
   "cell_type": "code",
   "execution_count": 220,
   "metadata": {},
   "outputs": [],
   "source": [
    "criterion = RMSELoss()  # Root Mean Squared Error Loss for regression tasks\n",
    "optimizer = optim.Adam(model.parameters(), lr=0.001)\n"
   ]
  },
  {
   "cell_type": "code",
   "execution_count": 221,
   "metadata": {},
   "outputs": [],
   "source": [
    "from sklearn.metrics import accuracy_score\n",
    "import matplotlib.pyplot as plt"
   ]
  },
  {
   "cell_type": "code",
   "execution_count": 222,
   "metadata": {},
   "outputs": [
    {
     "name": "stdout",
     "output_type": "stream",
     "text": [
      "Epoch [1/25], Step [1/4], Loss: 5.9234\n",
      "Epoch [1/25], Step [2/4], Loss: 3.6316\n",
      "Epoch [1/25], Step [3/4], Loss: 2.2105\n",
      "Epoch [1/25], Step [4/4], Loss: 2.7778\n",
      "Epoch [2/25], Step [1/4], Loss: 3.2070\n",
      "Epoch [2/25], Step [2/4], Loss: 2.6357\n",
      "Epoch [2/25], Step [3/4], Loss: 2.1507\n",
      "Epoch [2/25], Step [4/4], Loss: 1.6194\n",
      "Epoch [3/25], Step [1/4], Loss: 2.1064\n",
      "Epoch [3/25], Step [2/4], Loss: 2.2944\n",
      "Epoch [3/25], Step [3/4], Loss: 2.0258\n",
      "Epoch [3/25], Step [4/4], Loss: 1.5309\n",
      "Epoch [4/25], Step [1/4], Loss: 1.6885\n",
      "Epoch [4/25], Step [2/4], Loss: 1.6304\n",
      "Epoch [4/25], Step [3/4], Loss: 1.6130\n",
      "Epoch [4/25], Step [4/4], Loss: 1.5560\n",
      "Epoch [5/25], Step [1/4], Loss: 1.3689\n",
      "Epoch [5/25], Step [2/4], Loss: 1.3489\n",
      "Epoch [5/25], Step [3/4], Loss: 1.6567\n",
      "Epoch [5/25], Step [4/4], Loss: 1.3873\n",
      "Epoch [6/25], Step [1/4], Loss: 1.1903\n",
      "Epoch [6/25], Step [2/4], Loss: 1.2162\n",
      "Epoch [6/25], Step [3/4], Loss: 1.4232\n",
      "Epoch [6/25], Step [4/4], Loss: 1.8335\n",
      "Epoch [7/25], Step [1/4], Loss: 1.0582\n",
      "Epoch [7/25], Step [2/4], Loss: 1.2630\n",
      "Epoch [7/25], Step [3/4], Loss: 1.1173\n",
      "Epoch [7/25], Step [4/4], Loss: 1.0974\n",
      "Epoch [8/25], Step [1/4], Loss: 1.2307\n",
      "Epoch [8/25], Step [2/4], Loss: 1.1190\n",
      "Epoch [8/25], Step [3/4], Loss: 1.0614\n",
      "Epoch [8/25], Step [4/4], Loss: 1.2041\n",
      "Epoch [9/25], Step [1/4], Loss: 0.9562\n",
      "Epoch [9/25], Step [2/4], Loss: 0.9983\n",
      "Epoch [9/25], Step [3/4], Loss: 0.9700\n",
      "Epoch [9/25], Step [4/4], Loss: 0.8294\n",
      "Epoch [10/25], Step [1/4], Loss: 1.0241\n",
      "Epoch [10/25], Step [2/4], Loss: 1.0341\n",
      "Epoch [10/25], Step [3/4], Loss: 0.8299\n",
      "Epoch [10/25], Step [4/4], Loss: 0.7549\n",
      "Epoch [11/25], Step [1/4], Loss: 0.9366\n",
      "Epoch [11/25], Step [2/4], Loss: 1.1170\n",
      "Epoch [11/25], Step [3/4], Loss: 0.8420\n",
      "Epoch [11/25], Step [4/4], Loss: 1.2209\n",
      "Epoch [12/25], Step [1/4], Loss: 0.8207\n",
      "Epoch [12/25], Step [2/4], Loss: 0.8993\n",
      "Epoch [12/25], Step [3/4], Loss: 0.8193\n",
      "Epoch [12/25], Step [4/4], Loss: 0.9193\n",
      "Epoch [13/25], Step [1/4], Loss: 0.8417\n",
      "Epoch [13/25], Step [2/4], Loss: 1.1161\n",
      "Epoch [13/25], Step [3/4], Loss: 0.7221\n",
      "Epoch [13/25], Step [4/4], Loss: 0.9728\n",
      "Epoch [14/25], Step [1/4], Loss: 0.9536\n",
      "Epoch [14/25], Step [2/4], Loss: 0.9131\n",
      "Epoch [14/25], Step [3/4], Loss: 0.7113\n",
      "Epoch [14/25], Step [4/4], Loss: 0.5065\n",
      "Epoch [15/25], Step [1/4], Loss: 1.0275\n",
      "Epoch [15/25], Step [2/4], Loss: 1.4180\n",
      "Epoch [15/25], Step [3/4], Loss: 0.9845\n",
      "Epoch [15/25], Step [4/4], Loss: 0.4510\n",
      "Epoch [16/25], Step [1/4], Loss: 0.7352\n",
      "Epoch [16/25], Step [2/4], Loss: 1.0219\n",
      "Epoch [16/25], Step [3/4], Loss: 0.8219\n",
      "Epoch [16/25], Step [4/4], Loss: 0.4847\n",
      "Epoch [17/25], Step [1/4], Loss: 0.7033\n",
      "Epoch [17/25], Step [2/4], Loss: 0.8788\n",
      "Epoch [17/25], Step [3/4], Loss: 0.7326\n",
      "Epoch [17/25], Step [4/4], Loss: 0.7312\n",
      "Epoch [18/25], Step [1/4], Loss: 0.9601\n",
      "Epoch [18/25], Step [2/4], Loss: 1.2877\n",
      "Epoch [18/25], Step [3/4], Loss: 1.0608\n",
      "Epoch [18/25], Step [4/4], Loss: 1.0406\n",
      "Epoch [19/25], Step [1/4], Loss: 0.7102\n",
      "Epoch [19/25], Step [2/4], Loss: 0.8380\n",
      "Epoch [19/25], Step [3/4], Loss: 0.9928\n",
      "Epoch [19/25], Step [4/4], Loss: 0.8548\n",
      "Epoch [20/25], Step [1/4], Loss: 0.6131\n",
      "Epoch [20/25], Step [2/4], Loss: 0.7940\n",
      "Epoch [20/25], Step [3/4], Loss: 0.7078\n",
      "Epoch [20/25], Step [4/4], Loss: 0.7427\n",
      "Epoch [21/25], Step [1/4], Loss: 0.5302\n",
      "Epoch [21/25], Step [2/4], Loss: 0.8160\n",
      "Epoch [21/25], Step [3/4], Loss: 0.7628\n",
      "Epoch [21/25], Step [4/4], Loss: 0.5888\n",
      "Epoch [22/25], Step [1/4], Loss: 0.4576\n",
      "Epoch [22/25], Step [2/4], Loss: 0.7969\n",
      "Epoch [22/25], Step [3/4], Loss: 0.6254\n",
      "Epoch [22/25], Step [4/4], Loss: 0.4007\n",
      "Epoch [23/25], Step [1/4], Loss: 0.5264\n",
      "Epoch [23/25], Step [2/4], Loss: 0.6366\n",
      "Epoch [23/25], Step [3/4], Loss: 0.5847\n",
      "Epoch [23/25], Step [4/4], Loss: 0.4672\n",
      "Epoch [24/25], Step [1/4], Loss: 0.5110\n",
      "Epoch [24/25], Step [2/4], Loss: 0.7662\n",
      "Epoch [24/25], Step [3/4], Loss: 0.4987\n",
      "Epoch [24/25], Step [4/4], Loss: 0.4876\n",
      "Epoch [25/25], Step [1/4], Loss: 0.7327\n",
      "Epoch [25/25], Step [2/4], Loss: 0.6058\n",
      "Epoch [25/25], Step [3/4], Loss: 0.4436\n",
      "Epoch [25/25], Step [4/4], Loss: 0.6045\n",
      "finish training\n"
     ]
    }
   ],
   "source": [
    "\n",
    "\n",
    "#create variable to tracks things\n",
    "num_epochs = 25\n",
    "\n",
    "losses = []\n",
    "y_r = []\n",
    "y_p = []\n",
    "\n",
    "\n",
    "\n",
    "n_total_steps = len(train_loader)\n",
    "#For Loop of epochs\n",
    "for epoch in range(num_epochs):\n",
    "   \n",
    "    \n",
    "    #train\n",
    "   \n",
    "    for i, (image, bmi_labels) in enumerate(train_loader):\n",
    "        \n",
    "    \n",
    "        y_pred = model(image)\n",
    "        \n",
    "        y_r.append(bmi_labels)\n",
    "        y_p.append(y_pred)\n",
    "        \n",
    "        \n",
    "        loss = criterion(y_pred, bmi_labels.view(-1, 1).float())/len(train_loader)\n",
    "        losses.append(loss)\n",
    "        \n",
    "        optimizer.zero_grad()\n",
    "        loss.backward()\n",
    "        optimizer.step()\n",
    "\n",
    "        #if(i+1) % 10 == 0:\n",
    "        print(f'Epoch [{epoch+1}/{num_epochs}], Step [{i+1}/{n_total_steps}], Loss: {loss.item():.4f}')\n",
    "print(\"finish training\")"
   ]
  },
  {
   "cell_type": "code",
   "execution_count": 223,
   "metadata": {},
   "outputs": [
    {
     "data": {
      "text/plain": [
       "<matplotlib.legend.Legend at 0x7efdc17a68f0>"
      ]
     },
     "execution_count": 223,
     "metadata": {},
     "output_type": "execute_result"
    },
    {
     "data": {
      "image/png": "[encoded data removed]",
      "text/plain": [
       "<Figure size 640x480 with 1 Axes>"
      ]
     },
     "metadata": {},
     "output_type": "display_data"
    }
   ],
   "source": [
    "import matplotlib.pyplot as plt\n",
    "%matplotlib inline\n",
    "losses = [tl.item() for tl in losses]\n",
    "plt.plot( [t /226 for t in losses ], label = \"loss\")\n",
    "\n",
    "plt.legend()\n",
    "          "
   ]
  },
  {
   "cell_type": "code",
   "execution_count": 224,
   "metadata": {},
   "outputs": [],
   "source": [
    "num_epochs = 10\n",
    "\n",
    "losses = []\n",
    "y_r = []\n",
    "y_p = []\n",
    "\n",
    "\n",
    "\n",
    "n_total_steps = len(train_loader)\n",
    "#For Loop of epochs\n",
    "for epoch in range(num_epochs):\n",
    "   \n",
    "    \n",
    "    #train\n",
    "   \n",
    "    for i, (image, bmi_labels) in enumerate(train_loader):\n",
    "        \n",
    "    \n",
    "        y_pred = model(image)\n",
    "        \n",
    "        y_r.append(bmi_labels)\n",
    "        y_p.append(y_pred)"
   ]
  },
  {
   "cell_type": "code",
   "execution_count": null,
   "metadata": {},
   "outputs": [],
   "source": [
    "test_loss = 0.0\n",
    "test_score = 0.0\n",
    "test_loss_list = []\n",
    "pred_list = []\n",
    "truth_list = []\n",
    "label_list = []\n",
    "score_list = []\n"
   ]
  },
  {
   "cell_type": "code",
   "execution_count": null,
   "metadata": {},
   "outputs": [],
   "source": [
    "from sklearn.metrics import mean_absolute_error\n",
    "losses_ = []\n",
    "model.eval()\n",
    "\n",
    "all_preds = []\n",
    "all_labels = []\n",
    "\n",
    "with torch.no_grad():\n",
    "    for images, bmi_labels in test_loader:\n",
    "        # Assuming your model takes images as input\n",
    "        bmi_out = model(images)\n",
    "        loss_ = criterion(bmi_out, bmi_labels.view(-1, 1).float())/len(train_loader)\n",
    "        losses_.append(loss)\n",
    "        bmi_out = pd.DataFrame(bmi_out)\n",
    "        print(bmi_out)\n",
    "        bmi_labels = pd.DataFrame(bmi_labels)\n",
    "        print(bmi_labels)\n",
    "        \n",
    "# Compute accuracy\n",
    "   \n",
    "    score = mean_absolute_error(bmi_labels, bmi_out)\n",
    "    print(\"The Mean Absolute Error of our Model is {}\".format(round(score, 2)))"
   ]
  },
  {
   "cell_type": "code",
   "execution_count": null,
   "metadata": {},
   "outputs": [],
   "source": [
    "torch.save(model, 'model.pth')"
   ]
  },
  {
   "cell_type": "code",
   "execution_count": null,
   "metadata": {},
   "outputs": [],
   "source": [
    "model = torch.load('model.pth')\n",
    "\n",
    "for para in model.parameters():\n",
    "    print(para)"
   ]
  },
  {
   "cell_type": "code",
   "execution_count": null,
   "metadata": {},
   "outputs": [],
   "source": [
    "def train():\n",
    "    # train_epoch\n",
    "    # test_epoch\n",
    "    # luu model/ tra ve model\n",
    "    # self.best_model = copy.deepcopy(self.model)\n",
    "    pass\n",
    "\n",
    "\n"
   ]
  },
  {
   "cell_type": "code",
   "execution_count": null,
   "metadata": {},
   "outputs": [],
   "source": [
    "with torch.no_grad():\n",
    "    image = Image.open('a.jpg').convert(\"RGB\")\n",
    "   \n",
    "    image = transform(image)\n",
    "    image = image.unsqueeze_(0)\n",
    "    #y =image.size()\n",
    "    y = model(image)\n",
    "\n",
    "    print(y)"
   ]
  }
 ],
 "metadata": {
  "kernelspec": {
   "display_name": "Python 3.10.4 ('torch')",
   "language": "python",
   "name": "python3"
  },
  "language_info": {
   "codemirror_mode": {
    "name": "ipython",
    "version": 3
   },
   "file_extension": ".py",
   "mimetype": "text/x-python",
   "name": "python",
   "nbconvert_exporter": "python",
   "pygments_lexer": "ipython3",
   "version": "3.10.4"
  },
  "orig_nbformat": 4,
  "vscode": {
   "interpreter": {
    "hash": "5e41069438920b677da0f5961bc4e6feb5d97eaf860276a7a70f8fcc8c0e79bb"
   }
  }
 },
 "nbformat": 4,
 "nbformat_minor": 2
}
