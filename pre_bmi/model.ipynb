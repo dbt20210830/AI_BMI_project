{
 "cells": [
  {
   "cell_type": "code",
   "execution_count": 1,
   "metadata": {},
   "outputs": [],
   "source": [
    "import torch\n",
    "import torch.nn as nn\n",
    "import torch.optim as optim\n",
    "from torchvision import datasets, transforms\n",
    "from torch.utils.data import Dataset, DataLoader\n",
    "from PIL import Image\n",
    "import pandas as pd\n",
    "import os\n"
   ]
  },
  {
   "cell_type": "code",
   "execution_count": 2,
   "metadata": {},
   "outputs": [],
   "source": [
    "#dataset\n",
    "class BMIDataset(Dataset):\n",
    "    def __init__(self, csv_file, root_dir, transform = None):\n",
    "        self.annotations = pd.read_csv(csv_file)\n",
    "        self.root_dir = root_dir\n",
    "        self.transform = transform\n",
    "    def __len__(self):\n",
    "        return len(self.annotations)\n",
    "    def __getitem__(self,idx\n",
    "                    ):\n",
    "        img_path = self.annotations.iloc[idx, 5]\n",
    "        image = Image.open(img_path).convert(\"RGB\")\n",
    "        bmi_label = float(self.annotations.iloc[idx, 4])\n",
    "\n",
    "        if self.transform:\n",
    "            image = self.transform(image)\n",
    "\n",
    "        return (image, bmi_label)\n",
    "    "
   ]
  },
  {
   "cell_type": "code",
   "execution_count": 3,
   "metadata": {},
   "outputs": [],
   "source": [
    "resize = 224"
   ]
  },
  {
   "cell_type": "code",
   "execution_count": 4,
   "metadata": {},
   "outputs": [],
   "source": [
    "transform = transforms.Compose([\n",
    "    transforms.Resize((resize, resize)),  # Chọn kích thước ảnh sau khi augment\n",
    "    transforms.ToTensor(),  # Chuyển ảnh sang tensor\n",
    "    transforms.Normalize((0.5, 0.5, 0.5), (0.5, 0.5, 0.5))  # Chuẩn hóa tensor\n",
    "])"
   ]
  },
  {
   "cell_type": "code",
   "execution_count": 5,
   "metadata": {},
   "outputs": [
    {
     "data": {
      "text/plain": [
       "Compose(\n",
       "    Resize(size=(224, 224), interpolation=bilinear, max_size=None, antialias=None)\n",
       "    ToTensor()\n",
       "    Normalize(mean=(0.5, 0.5, 0.5), std=(0.5, 0.5, 0.5))\n",
       ")"
      ]
     },
     "execution_count": 5,
     "metadata": {},
     "output_type": "execute_result"
    }
   ],
   "source": [
    "transform"
   ]
  },
  {
   "cell_type": "code",
   "execution_count": null,
   "metadata": {},
   "outputs": [],
   "source": []
  },
  {
   "cell_type": "code",
   "execution_count": 6,
   "metadata": {},
   "outputs": [],
   "source": [
    "class BMIModel(nn.Module):\n",
    "    def __init__(self):\n",
    "        super(BMIModel,self).__init__()\n",
    "        self.conv1 = nn.Conv2d(3,6, 3) #224x224\n",
    "        self.relu1 = nn.ReLU()\n",
    "        self.batch1 = nn.BatchNorm2d(6)\n",
    "        self.pool1 = nn.MaxPool2d( 2,2) #111x111\n",
    "        \n",
    "        self.conv2 = nn.Conv2d(6 ,10 , 3) # 110 x110\n",
    "        self.relu2 = nn.ReLU()\n",
    "        self.batch2 = nn.BatchNorm2d(10)\n",
    "        self.pool2 = nn.MaxPool2d( 2,2)# 55x55\n",
    "        \n",
    "        self.l_conv1 = int((224- 3) + 1)\n",
    "        self.l_maxpool1= int((self.l_conv1 - 2)/2 + 1)\n",
    "\n",
    "        self.l_conv2 = int((self.l_maxpool1- 3) + 1)\n",
    "        self.l_maxpool2= int((self.l_conv2 - 2)/2 + 1)        \n",
    "        self.linear = nn.Linear(self.l_maxpool2*self.l_maxpool2*10,1)\n",
    "    \n",
    "    def forward(self,x):\n",
    "        x = self.conv1(x)\n",
    "        x = self.relu1(x)\n",
    "        x = self.batch1(x)\n",
    "        x = self.pool1(x)\n",
    "        \n",
    "        \n",
    "        x = self.conv2(x)\n",
    "        x = self.relu2(x)\n",
    "        x = self.batch2(x)\n",
    "        x = self.pool2(x)\n",
    "        x = torch.flatten(x, start_dim=1)\n",
    "        x = self.linear(x)\n",
    "        \n",
    "        return x"
   ]
  },
  {
   "cell_type": "code",
   "execution_count": 7,
   "metadata": {},
   "outputs": [],
   "source": [
    "dataset = BMIDataset(csv_file ='/home/quanhhh/Documents/pre_bmi/pr_databmi.csv',\n",
    "                     root_dir = '/home/quanhhh/Documents/vip/vip/data/data/',\n",
    "                     transform = transform )"
   ]
  },
  {
   "cell_type": "code",
   "execution_count": 8,
   "metadata": {},
   "outputs": [
    {
     "data": {
      "text/plain": [
       "0       /home/quanhhh/Documents/vip/vip/data/data/f_00...\n",
       "1       /home/quanhhh/Documents/vip/vip/data/data/f_00...\n",
       "2       /home/quanhhh/Documents/vip/vip/data/data/f_00...\n",
       "3       /home/quanhhh/Documents/vip/vip/data/data/f_00...\n",
       "4       /home/quanhhh/Documents/vip/vip/data/data/f_00...\n",
       "                              ...                        \n",
       "1021    /home/quanhhh/Documents/vip/vip/data/data/m_50...\n",
       "1022    /home/quanhhh/Documents/vip/vip/data/data/m_51...\n",
       "1023    /home/quanhhh/Documents/vip/vip/data/data/m_51...\n",
       "1024    /home/quanhhh/Documents/vip/vip/data/data/m_51...\n",
       "1025    /home/quanhhh/Documents/vip/vip/data/data/m_51...\n",
       "Name: path, Length: 1026, dtype: object"
      ]
     },
     "execution_count": 8,
     "metadata": {},
     "output_type": "execute_result"
    }
   ],
   "source": [
    "annotations = pd.read_csv('/home/quanhhh/Documents/pre_bmi/pr_databmi.csv')\n",
    "img_path = annotations.iloc[ : , 5]\n",
    "img_path"
   ]
  },
  {
   "cell_type": "code",
   "execution_count": 9,
   "metadata": {},
   "outputs": [],
   "source": [
    "#set up data loader and transformations\n",
    "total_samples = len(dataset)\n",
    "total_samples\n",
    "from torch.utils.data import random_split\n",
    "total_samples = len(dataset)\n",
    "train_size = int(0.7 * total_samples)  # Adjust the split ratio as needed\n",
    "test_size = total_samples - train_size\n",
    "\n",
    "train_set, test_set = random_split(dataset, [train_size, test_size])"
   ]
  },
  {
   "cell_type": "code",
   "execution_count": 10,
   "metadata": {},
   "outputs": [],
   "source": [
    "batch_size = 226\n"
   ]
  },
  {
   "cell_type": "markdown",
   "metadata": {},
   "source": []
  },
  {
   "cell_type": "code",
   "execution_count": 11,
   "metadata": {},
   "outputs": [],
   "source": [
    "train_loader = DataLoader(dataset=train_set, batch_size=batch_size, shuffle=True)\n",
    "test_loader = DataLoader(dataset=test_set, batch_size= 308, shuffle=True)\n",
    "\n"
   ]
  },
  {
   "cell_type": "code",
   "execution_count": 12,
   "metadata": {},
   "outputs": [],
   "source": [
    "model = BMIModel()\n"
   ]
  },
  {
   "cell_type": "code",
   "execution_count": 13,
   "metadata": {},
   "outputs": [],
   "source": [
    "class RMSELoss(nn.Module):\n",
    "    def __init__(self, eps=1e-6):\n",
    "        super().__init__()\n",
    "        self.mse = nn.MSELoss()\n",
    "        self.eps = eps\n",
    "        \n",
    "    def forward(self,yhat,y):\n",
    "        loss = torch.sqrt(self.mse(yhat,y) + self.eps)\n",
    "        return loss"
   ]
  },
  {
   "cell_type": "code",
   "execution_count": 14,
   "metadata": {},
   "outputs": [],
   "source": [
    "criterion = RMSELoss()  # Root Mean Squared Error Loss for regression tasks\n",
    "optimizer = optim.Adam(model.parameters(), lr=0.001)\n"
   ]
  },
  {
   "cell_type": "code",
   "execution_count": 15,
   "metadata": {},
   "outputs": [],
   "source": [
    "from sklearn.metrics import accuracy_score\n",
    "import matplotlib.pyplot as plt"
   ]
  },
  {
   "cell_type": "code",
   "execution_count": 16,
   "metadata": {},
   "outputs": [
    {
     "name": "stdout",
     "output_type": "stream",
     "text": [
      "Epoch [1/25], Step [1/4], Loss: 5.7715\n",
      "Epoch [1/25], Step [2/4], Loss: 3.2801\n",
      "Epoch [1/25], Step [3/4], Loss: 2.1537\n",
      "Epoch [1/25], Step [4/4], Loss: 2.8861\n",
      "Epoch [2/25], Step [1/4], Loss: 2.6502\n",
      "Epoch [2/25], Step [2/4], Loss: 2.3831\n",
      "Epoch [2/25], Step [3/4], Loss: 2.4365\n",
      "Epoch [2/25], Step [4/4], Loss: 2.2487\n",
      "Epoch [3/25], Step [1/4], Loss: 1.8850\n",
      "Epoch [3/25], Step [2/4], Loss: 1.6613\n",
      "Epoch [3/25], Step [3/4], Loss: 1.5674\n",
      "Epoch [3/25], Step [4/4], Loss: 1.4600\n",
      "Epoch [4/25], Step [1/4], Loss: 1.4531\n",
      "Epoch [4/25], Step [2/4], Loss: 1.7089\n",
      "Epoch [4/25], Step [3/4], Loss: 1.5097\n",
      "Epoch [4/25], Step [4/4], Loss: 1.4490\n",
      "Epoch [5/25], Step [1/4], Loss: 1.4221\n",
      "Epoch [5/25], Step [2/4], Loss: 1.2237\n",
      "Epoch [5/25], Step [3/4], Loss: 1.3352\n",
      "Epoch [5/25], Step [4/4], Loss: 1.1293\n",
      "Epoch [6/25], Step [1/4], Loss: 1.3070\n",
      "Epoch [6/25], Step [2/4], Loss: 1.1024\n",
      "Epoch [6/25], Step [3/4], Loss: 1.2517\n",
      "Epoch [6/25], Step [4/4], Loss: 0.9525\n",
      "Epoch [7/25], Step [1/4], Loss: 1.0377\n",
      "Epoch [7/25], Step [2/4], Loss: 0.9897\n",
      "Epoch [7/25], Step [3/4], Loss: 1.3114\n",
      "Epoch [7/25], Step [4/4], Loss: 1.4395\n",
      "Epoch [8/25], Step [1/4], Loss: 1.1041\n",
      "Epoch [8/25], Step [2/4], Loss: 1.0627\n",
      "Epoch [8/25], Step [3/4], Loss: 0.9833\n",
      "Epoch [8/25], Step [4/4], Loss: 0.9739\n",
      "Epoch [9/25], Step [1/4], Loss: 1.0478\n",
      "Epoch [9/25], Step [2/4], Loss: 1.0637\n",
      "Epoch [9/25], Step [3/4], Loss: 0.9006\n",
      "Epoch [9/25], Step [4/4], Loss: 0.7029\n",
      "Epoch [10/25], Step [1/4], Loss: 1.0086\n",
      "Epoch [10/25], Step [2/4], Loss: 0.8847\n",
      "Epoch [10/25], Step [3/4], Loss: 0.7905\n",
      "Epoch [10/25], Step [4/4], Loss: 1.0432\n",
      "Epoch [11/25], Step [1/4], Loss: 0.9486\n",
      "Epoch [11/25], Step [2/4], Loss: 0.8213\n",
      "Epoch [11/25], Step [3/4], Loss: 0.7348\n",
      "Epoch [11/25], Step [4/4], Loss: 0.6840\n",
      "Epoch [12/25], Step [1/4], Loss: 0.7647\n",
      "Epoch [12/25], Step [2/4], Loss: 0.7052\n",
      "Epoch [12/25], Step [3/4], Loss: 0.9350\n",
      "Epoch [12/25], Step [4/4], Loss: 0.8593\n",
      "Epoch [13/25], Step [1/4], Loss: 0.9226\n",
      "Epoch [13/25], Step [2/4], Loss: 0.6921\n",
      "Epoch [13/25], Step [3/4], Loss: 0.8913\n",
      "Epoch [13/25], Step [4/4], Loss: 0.7888\n",
      "Epoch [14/25], Step [1/4], Loss: 0.6759\n",
      "Epoch [14/25], Step [2/4], Loss: 0.7870\n",
      "Epoch [14/25], Step [3/4], Loss: 0.6439\n",
      "Epoch [14/25], Step [4/4], Loss: 1.0197\n",
      "Epoch [15/25], Step [1/4], Loss: 0.8323\n",
      "Epoch [15/25], Step [2/4], Loss: 0.6362\n",
      "Epoch [15/25], Step [3/4], Loss: 0.5850\n",
      "Epoch [15/25], Step [4/4], Loss: 0.5148\n",
      "Epoch [16/25], Step [1/4], Loss: 0.6829\n",
      "Epoch [16/25], Step [2/4], Loss: 0.7309\n",
      "Epoch [16/25], Step [3/4], Loss: 0.7055\n",
      "Epoch [16/25], Step [4/4], Loss: 0.5753\n",
      "Epoch [17/25], Step [1/4], Loss: 0.6010\n",
      "Epoch [17/25], Step [2/4], Loss: 0.5916\n",
      "Epoch [17/25], Step [3/4], Loss: 0.6328\n",
      "Epoch [17/25], Step [4/4], Loss: 1.0113\n",
      "Epoch [18/25], Step [1/4], Loss: 0.6856\n",
      "Epoch [18/25], Step [2/4], Loss: 0.5723\n",
      "Epoch [18/25], Step [3/4], Loss: 0.7059\n",
      "Epoch [18/25], Step [4/4], Loss: 0.6156\n",
      "Epoch [19/25], Step [1/4], Loss: 0.6412\n",
      "Epoch [19/25], Step [2/4], Loss: 0.6760\n",
      "Epoch [19/25], Step [3/4], Loss: 0.4774\n",
      "Epoch [19/25], Step [4/4], Loss: 0.9359\n",
      "Epoch [20/25], Step [1/4], Loss: 0.5260\n",
      "Epoch [20/25], Step [2/4], Loss: 0.5704\n",
      "Epoch [20/25], Step [3/4], Loss: 0.5504\n",
      "Epoch [20/25], Step [4/4], Loss: 0.4571\n",
      "Epoch [21/25], Step [1/4], Loss: 0.6639\n",
      "Epoch [21/25], Step [2/4], Loss: 0.7782\n",
      "Epoch [21/25], Step [3/4], Loss: 0.6080\n",
      "Epoch [21/25], Step [4/4], Loss: 0.8926\n",
      "Epoch [22/25], Step [1/4], Loss: 0.6629\n",
      "Epoch [22/25], Step [2/4], Loss: 0.6976\n",
      "Epoch [22/25], Step [3/4], Loss: 0.6293\n",
      "Epoch [22/25], Step [4/4], Loss: 0.4952\n",
      "Epoch [23/25], Step [1/4], Loss: 0.5356\n",
      "Epoch [23/25], Step [2/4], Loss: 0.4274\n",
      "Epoch [23/25], Step [3/4], Loss: 0.4964\n",
      "Epoch [23/25], Step [4/4], Loss: 0.6202\n",
      "Epoch [24/25], Step [1/4], Loss: 0.5153\n",
      "Epoch [24/25], Step [2/4], Loss: 0.4626\n",
      "Epoch [24/25], Step [3/4], Loss: 0.4244\n",
      "Epoch [24/25], Step [4/4], Loss: 0.5216\n",
      "Epoch [25/25], Step [1/4], Loss: 0.4880\n",
      "Epoch [25/25], Step [2/4], Loss: 0.4623\n",
      "Epoch [25/25], Step [3/4], Loss: 0.3914\n",
      "Epoch [25/25], Step [4/4], Loss: 0.3301\n",
      "finish training\n"
     ]
    }
   ],
   "source": [
    "\n",
    "\n",
    "#create variable to tracks things\n",
    "num_epochs = 25\n",
    "\n",
    "losses = []\n",
    "\n",
    "n_total_steps = len(train_loader)\n",
    "#For Loop of epochs\n",
    "for epoch in range(num_epochs):\n",
    "   \n",
    "    \n",
    "    #train\n",
    "   \n",
    "    for i, (image, bmi_labels) in enumerate(train_loader):\n",
    "        \n",
    "    \n",
    "        y_pred = model(image)\n",
    "        loss = criterion(y_pred, bmi_labels.view(-1, 1).float())/len(train_loader)\n",
    "        losses.append(loss)\n",
    "        \n",
    "        optimizer.zero_grad()\n",
    "        loss.backward()\n",
    "        optimizer.step()\n",
    "\n",
    "        #if(i+1) % 10 == 0:\n",
    "        print(f'Epoch [{epoch+1}/{num_epochs}], Step [{i+1}/{n_total_steps}], Loss: {loss.item():.4f}')\n",
    "print(\"finish training\")"
   ]
  },
  {
   "cell_type": "code",
   "execution_count": 17,
   "metadata": {},
   "outputs": [
    {
     "data": {
      "text/plain": [
       "<matplotlib.legend.Legend at 0x7f4caf3077f0>"
      ]
     },
     "execution_count": 17,
     "metadata": {},
     "output_type": "execute_result"
    },
    {
     "data": {
      "image/png": "[encoded data removed]",
      "text/plain": [
       "<Figure size 640x480 with 1 Axes>"
      ]
     },
     "metadata": {},
     "output_type": "display_data"
    }
   ],
   "source": [
    "import matplotlib.pyplot as plt\n",
    "%matplotlib inline\n",
    "losses = [tl.item() for tl in losses]\n",
    "plt.plot( [t /226 for t in losses ], label = \"loss\")\n",
    "\n",
    "plt.legend()\n",
    "          "
   ]
  },
  {
   "cell_type": "code",
   "execution_count": 18,
   "metadata": {},
   "outputs": [],
   "source": [
    "test_loss = 0.0\n",
    "test_score = 0.0\n",
    "test_loss_list = []\n",
    "pred_list = []\n",
    "truth_list = []\n",
    "label_list = []\n",
    "score_list = []\n"
   ]
  },
  {
   "cell_type": "code",
   "execution_count": 19,
   "metadata": {},
   "outputs": [
    {
     "name": "stdout",
     "output_type": "stream",
     "text": [
      "             0\n",
      "0    26.750422\n",
      "1    21.777269\n",
      "2    21.035004\n",
      "3    17.303625\n",
      "4    23.314848\n",
      "..         ...\n",
      "303  25.244642\n",
      "304  26.525419\n",
      "305  25.965702\n",
      "306  21.031630\n",
      "307  20.932478\n",
      "\n",
      "[308 rows x 1 columns]\n",
      "             0\n",
      "0    26.874496\n",
      "1    26.699893\n",
      "2    24.489796\n",
      "3    22.917610\n",
      "4    24.964946\n",
      "..         ...\n",
      "303  26.023049\n",
      "304  26.827421\n",
      "305  26.173833\n",
      "306  23.374726\n",
      "307  20.964361\n",
      "\n",
      "[308 rows x 1 columns]\n",
      "The Mean Absolute Error of our Model is 4.03\n"
     ]
    }
   ],
   "source": [
    "from sklearn.metrics import mean_absolute_error\n",
    "losses_ = []\n",
    "model.eval()\n",
    "\n",
    "all_preds = []\n",
    "all_labels = []\n",
    "\n",
    "with torch.no_grad():\n",
    "    for images, bmi_labels in test_loader:\n",
    "        # Assuming your model takes images as input\n",
    "        bmi_out = model(images)\n",
    "        loss_ = criterion(bmi_out, bmi_labels.view(-1, 1).float())/len(train_loader)\n",
    "        losses_.append(loss)\n",
    "        bmi_out = pd.DataFrame(bmi_out)\n",
    "        print(bmi_out)\n",
    "        bmi_labels = pd.DataFrame(bmi_labels)\n",
    "        print(bmi_labels)\n",
    "        \n",
    "# Compute accuracy\n",
    "   \n",
    "    score = mean_absolute_error(bmi_labels, bmi_out)\n",
    "    print(\"The Mean Absolute Error of our Model is {}\".format(round(score, 2)))"
   ]
  },
  {
   "cell_type": "code",
   "execution_count": 20,
   "metadata": {},
   "outputs": [],
   "source": [
    "def train():\n",
    "    # train_epoch\n",
    "    # test_epoch\n",
    "    # luu model/ tra ve model\n",
    "    # self.best_model = copy.deepcopy(self.model)\n",
    "    pass\n",
    "\n",
    "\n"
   ]
  },
  {
   "cell_type": "code",
   "execution_count": 40,
   "metadata": {},
   "outputs": [
    {
     "name": "stdout",
     "output_type": "stream",
     "text": [
      "tensor([[25.3458]])\n"
     ]
    }
   ],
   "source": [
    "with torch.no_grad():\n",
    "    image = Image.open('a.jpg').convert(\"RGB\")\n",
    "   \n",
    "    image = transform(image)\n",
    "    image = image.unsqueeze_(0)\n",
    "    #y =image.size()\n",
    "    y = model(image)\n",
    "\n",
    "    print(y)"
   ]
  }
 ],
 "metadata": {
  "kernelspec": {
   "display_name": "Python 3.10.4 ('torch')",
   "language": "python",
   "name": "python3"
  },
  "language_info": {
   "codemirror_mode": {
    "name": "ipython",
    "version": 3
   },
   "file_extension": ".py",
   "mimetype": "text/x-python",
   "name": "python",
   "nbconvert_exporter": "python",
   "pygments_lexer": "ipython3",
   "version": "3.10.4"
  },
  "orig_nbformat": 4,
  "vscode": {
   "interpreter": {
    "hash": "5e41069438920b677da0f5961bc4e6feb5d97eaf860276a7a70f8fcc8c0e79bb"
   }
  }
 },
 "nbformat": 4,
 "nbformat_minor": 2
}
