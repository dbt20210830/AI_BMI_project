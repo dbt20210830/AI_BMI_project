{
 "cells": [
  {
   "cell_type": "code",
   "execution_count": 1,
   "metadata": {},
   "outputs": [],
   "source": [
    "import face_recognition\n",
    "import numpy as np\n",
    "import seaborn as sns\n",
    "import pandas as pd\n",
    "import matplotlib.pyplot as plt\n",
    "%matplotlib inline"
   ]
  },
  {
   "cell_type": "code",
   "execution_count": 7,
   "metadata": {},
   "outputs": [],
   "source": [
    "profile_df = pd.read_csv('/home/quanhhh/Downloads/DATA_BMI/BMIdata_Sheet1.csv')"
   ]
  },
  {
   "cell_type": "code",
   "execution_count": 8,
   "metadata": {},
   "outputs": [],
   "source": [
    "def get_face_encoding(image_path):\n",
    "    try:\n",
    "        picture_of_me = face_recognition.load_image_file(image_path)\n",
    "    except FileNotFoundError:\n",
    "      print(image_path + \" no file found\")\n",
    "      return np.zeros(128).tolist()\n",
    "    my_face_encoding = face_recognition.face_encodings(picture_of_me)\n",
    "    if not my_face_encoding:\n",
    "        print(image_path + \" no face found !!!\")\n",
    "        return np.zeros(128).tolist()\n",
    "    return my_face_encoding[0].tolist()\n"
   ]
  },
  {
   "cell_type": "code",
   "execution_count": 9,
   "metadata": {},
   "outputs": [],
   "source": [
    "data_folder = '/home/quanhhh/Downloads/DATA_BMI/height_weight/'"
   ]
  },
  {
   "cell_type": "code",
   "execution_count": 10,
   "metadata": {},
   "outputs": [
    {
     "name": "stdout",
     "output_type": "stream",
     "text": [
      "Total 226 photos \n"
     ]
    }
   ],
   "source": [
    "from glob import glob\n",
    "all_files = glob(data_folder+\"/*\")\n",
    "\n",
    "all_jpgs = sorted([img for img in all_files if \".jpg\" in img or \".jpeg\" in img or \"JPG\" in img])\n",
    "\n",
    "print(\"Total {} photos \".format(len(all_jpgs)))"
   ]
  },
  {
   "cell_type": "code",
   "execution_count": 13,
   "metadata": {},
   "outputs": [],
   "source": [
    "from pathlib import Path as p"
   ]
  },
  {
   "cell_type": "code",
   "execution_count": 14,
   "metadata": {},
   "outputs": [],
   "source": [
    "def get_index_of_digit(string):\n",
    "    import re\n",
    "    match = re.search(\"\\d\", p(string).stem)\n",
    "    return match.start(0)\n"
   ]
  },
  {
   "cell_type": "code",
   "execution_count": 15,
   "metadata": {},
   "outputs": [],
   "source": [
    "id_path = [(p(images).stem[:(get_index_of_digit(p(images).stem))],images) for  images in all_jpgs ]"
   ]
  },
  {
   "cell_type": "code",
   "execution_count": 16,
   "metadata": {},
   "outputs": [],
   "source": [
    "image_df = pd.DataFrame(id_path,columns=['UID','path'])"
   ]
  },
  {
   "cell_type": "code",
   "execution_count": 17,
   "metadata": {},
   "outputs": [],
   "source": [
    "data_df = image_df.merge(profile_df)"
   ]
  },
  {
   "cell_type": "code",
   "execution_count": 18,
   "metadata": {},
   "outputs": [
    {
     "data": {
      "text/html": [
       "<div>\n",
       "<style scoped>\n",
       "    .dataframe tbody tr th:only-of-type {\n",
       "        vertical-align: middle;\n",
       "    }\n",
       "\n",
       "    .dataframe tbody tr th {\n",
       "        vertical-align: top;\n",
       "    }\n",
       "\n",
       "    .dataframe thead th {\n",
       "        text-align: right;\n",
       "    }\n",
       "</style>\n",
       "<table border=\"1\" class=\"dataframe\">\n",
       "  <thead>\n",
       "    <tr style=\"text-align: right;\">\n",
       "      <th></th>\n",
       "      <th>UID</th>\n",
       "      <th>path</th>\n",
       "      <th>id</th>\n",
       "      <th>name</th>\n",
       "      <th>height</th>\n",
       "      <th>weight</th>\n",
       "      <th>BMI</th>\n",
       "    </tr>\n",
       "  </thead>\n",
       "  <tbody>\n",
       "    <tr>\n",
       "      <th>0</th>\n",
       "      <td>akshay</td>\n",
       "      <td>/home/quanhhh/Downloads/DATA_BMI/height_weight...</td>\n",
       "      <td>1</td>\n",
       "      <td>akshay kumar</td>\n",
       "      <td>1.78</td>\n",
       "      <td>80</td>\n",
       "      <td>25.249337</td>\n",
       "    </tr>\n",
       "    <tr>\n",
       "      <th>1</th>\n",
       "      <td>akshay</td>\n",
       "      <td>/home/quanhhh/Downloads/DATA_BMI/height_weight...</td>\n",
       "      <td>1</td>\n",
       "      <td>akshay kumar</td>\n",
       "      <td>1.78</td>\n",
       "      <td>80</td>\n",
       "      <td>25.249337</td>\n",
       "    </tr>\n",
       "    <tr>\n",
       "      <th>2</th>\n",
       "      <td>akshay</td>\n",
       "      <td>/home/quanhhh/Downloads/DATA_BMI/height_weight...</td>\n",
       "      <td>1</td>\n",
       "      <td>akshay kumar</td>\n",
       "      <td>1.78</td>\n",
       "      <td>80</td>\n",
       "      <td>25.249337</td>\n",
       "    </tr>\n",
       "    <tr>\n",
       "      <th>3</th>\n",
       "      <td>akshay</td>\n",
       "      <td>/home/quanhhh/Downloads/DATA_BMI/height_weight...</td>\n",
       "      <td>1</td>\n",
       "      <td>akshay kumar</td>\n",
       "      <td>1.78</td>\n",
       "      <td>80</td>\n",
       "      <td>25.249337</td>\n",
       "    </tr>\n",
       "    <tr>\n",
       "      <th>4</th>\n",
       "      <td>akshay</td>\n",
       "      <td>/home/quanhhh/Downloads/DATA_BMI/height_weight...</td>\n",
       "      <td>1</td>\n",
       "      <td>akshay kumar</td>\n",
       "      <td>1.78</td>\n",
       "      <td>80</td>\n",
       "      <td>25.249337</td>\n",
       "    </tr>\n",
       "    <tr>\n",
       "      <th>...</th>\n",
       "      <td>...</td>\n",
       "      <td>...</td>\n",
       "      <td>...</td>\n",
       "      <td>...</td>\n",
       "      <td>...</td>\n",
       "      <td>...</td>\n",
       "      <td>...</td>\n",
       "    </tr>\n",
       "    <tr>\n",
       "      <th>221</th>\n",
       "      <td>vikky</td>\n",
       "      <td>/home/quanhhh/Downloads/DATA_BMI/height_weight...</td>\n",
       "      <td>8</td>\n",
       "      <td>vicky kaushal</td>\n",
       "      <td>1.83</td>\n",
       "      <td>80</td>\n",
       "      <td>23.888441</td>\n",
       "    </tr>\n",
       "    <tr>\n",
       "      <th>222</th>\n",
       "      <td>vikky</td>\n",
       "      <td>/home/quanhhh/Downloads/DATA_BMI/height_weight...</td>\n",
       "      <td>8</td>\n",
       "      <td>vicky kaushal</td>\n",
       "      <td>1.83</td>\n",
       "      <td>80</td>\n",
       "      <td>23.888441</td>\n",
       "    </tr>\n",
       "    <tr>\n",
       "      <th>223</th>\n",
       "      <td>vikky</td>\n",
       "      <td>/home/quanhhh/Downloads/DATA_BMI/height_weight...</td>\n",
       "      <td>8</td>\n",
       "      <td>vicky kaushal</td>\n",
       "      <td>1.83</td>\n",
       "      <td>80</td>\n",
       "      <td>23.888441</td>\n",
       "    </tr>\n",
       "    <tr>\n",
       "      <th>224</th>\n",
       "      <td>vikky</td>\n",
       "      <td>/home/quanhhh/Downloads/DATA_BMI/height_weight...</td>\n",
       "      <td>8</td>\n",
       "      <td>vicky kaushal</td>\n",
       "      <td>1.83</td>\n",
       "      <td>80</td>\n",
       "      <td>23.888441</td>\n",
       "    </tr>\n",
       "    <tr>\n",
       "      <th>225</th>\n",
       "      <td>vikky</td>\n",
       "      <td>/home/quanhhh/Downloads/DATA_BMI/height_weight...</td>\n",
       "      <td>8</td>\n",
       "      <td>vicky kaushal</td>\n",
       "      <td>1.83</td>\n",
       "      <td>80</td>\n",
       "      <td>23.888441</td>\n",
       "    </tr>\n",
       "  </tbody>\n",
       "</table>\n",
       "<p>226 rows × 7 columns</p>\n",
       "</div>"
      ],
      "text/plain": [
       "        UID                                               path  id  \\\n",
       "0    akshay  /home/quanhhh/Downloads/DATA_BMI/height_weight...   1   \n",
       "1    akshay  /home/quanhhh/Downloads/DATA_BMI/height_weight...   1   \n",
       "2    akshay  /home/quanhhh/Downloads/DATA_BMI/height_weight...   1   \n",
       "3    akshay  /home/quanhhh/Downloads/DATA_BMI/height_weight...   1   \n",
       "4    akshay  /home/quanhhh/Downloads/DATA_BMI/height_weight...   1   \n",
       "..      ...                                                ...  ..   \n",
       "221   vikky  /home/quanhhh/Downloads/DATA_BMI/height_weight...   8   \n",
       "222   vikky  /home/quanhhh/Downloads/DATA_BMI/height_weight...   8   \n",
       "223   vikky  /home/quanhhh/Downloads/DATA_BMI/height_weight...   8   \n",
       "224   vikky  /home/quanhhh/Downloads/DATA_BMI/height_weight...   8   \n",
       "225   vikky  /home/quanhhh/Downloads/DATA_BMI/height_weight...   8   \n",
       "\n",
       "              name  height  weight        BMI  \n",
       "0     akshay kumar    1.78      80  25.249337  \n",
       "1     akshay kumar    1.78      80  25.249337  \n",
       "2     akshay kumar    1.78      80  25.249337  \n",
       "3     akshay kumar    1.78      80  25.249337  \n",
       "4     akshay kumar    1.78      80  25.249337  \n",
       "..             ...     ...     ...        ...  \n",
       "221  vicky kaushal    1.83      80  23.888441  \n",
       "222  vicky kaushal    1.83      80  23.888441  \n",
       "223  vicky kaushal    1.83      80  23.888441  \n",
       "224  vicky kaushal    1.83      80  23.888441  \n",
       "225  vicky kaushal    1.83      80  23.888441  \n",
       "\n",
       "[226 rows x 7 columns]"
      ]
     },
     "execution_count": 18,
     "metadata": {},
     "output_type": "execute_result"
    }
   ],
   "source": [
    "data_df\n"
   ]
  },
  {
   "cell_type": "code",
   "execution_count": 23,
   "metadata": {},
   "outputs": [],
   "source": [
    "data_df.to_csv('pre_databmi.csv')"
   ]
  },
  {
   "cell_type": "code",
   "execution_count": 21,
   "metadata": {},
   "outputs": [
    {
     "data": {
      "text/plain": [
       "226"
      ]
     },
     "execution_count": 21,
     "metadata": {},
     "output_type": "execute_result"
    }
   ],
   "source": []
  },
  {
   "cell_type": "code",
   "execution_count": null,
   "metadata": {},
   "outputs": [],
   "source": []
  }
 ],
 "metadata": {
  "kernelspec": {
   "display_name": "Python 3.10.4 ('torch')",
   "language": "python",
   "name": "python3"
  },
  "language_info": {
   "codemirror_mode": {
    "name": "ipython",
    "version": 3
   },
   "file_extension": ".py",
   "mimetype": "text/x-python",
   "name": "python",
   "nbconvert_exporter": "python",
   "pygments_lexer": "ipython3",
   "version": "3.10.4"
  },
  "orig_nbformat": 4,
  "vscode": {
   "interpreter": {
    "hash": "5e41069438920b677da0f5961bc4e6feb5d97eaf860276a7a70f8fcc8c0e79bb"
   }
  }
 },
 "nbformat": 4,
 "nbformat_minor": 2
}
